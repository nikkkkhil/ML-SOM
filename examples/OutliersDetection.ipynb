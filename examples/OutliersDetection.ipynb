{
 "cells": [
  {
   "cell_type": "code",
   "execution_count": 1,
   "metadata": {},
   "outputs": [],
   "source": [
    "import sys\n",
    "sys.path.insert(0, '../')\n",
    "\n",
    "from minisom import MiniSom\n",
    "\n",
    "import numpy as np\n",
    "import matplotlib.pyplot as plt\n",
    "from matplotlib.gridspec import GridSpec\n",
    "%matplotlib inline\n",
    "\n",
    "%load_ext autoreload\n",
    "%autoreload 2"
   ]
  },
  {
   "cell_type": "code",
   "execution_count": 2,
   "metadata": {
    "collapsed": true
   },
   "outputs": [],
   "source": [
    "from sklearn.datasets import make_blobs\n",
    "from sklearn.preprocessing import scale"
   ]
  },
  {
   "cell_type": "code",
   "execution_count": 3,
   "metadata": {},
   "outputs": [
    {
     "name": "stdout",
     "output_type": "stream",
     "text": [
      "\r",
      " [   0 / 100 ]   0% ? it/s\r",
      " [   1 / 100 ]   1% 0.00021 it/s\r",
      " [   2 / 100 ]   2% 0.00023 it/s\r",
      " [   3 / 100 ]   3% 0.00024 it/s\r",
      " [   4 / 100 ]   4% 0.00023 it/s\r",
      " [   5 / 100 ]   5% 0.00022 it/s\r",
      " [   6 / 100 ]   6% 0.00022 it/s\r",
      " [   7 / 100 ]   7% 0.00022 it/s\r",
      " [   8 / 100 ]   8% 0.00022 it/s\r",
      " [   9 / 100 ]   9% 0.00023 it/s\r",
      " [  10 / 100 ]  10% 0.00022 it/s\r",
      " [  11 / 100 ]  11% 0.00022 it/s\r",
      " [  12 / 100 ]  12% 0.00022 it/s\r",
      " [  13 / 100 ]  13% 0.00022 it/s\r",
      " [  14 / 100 ]  14% 0.00022 it/s\r",
      " [  15 / 100 ]  15% 0.00022 it/s\r",
      " [  16 / 100 ]  16% 0.00022 it/s\r",
      " [  17 / 100 ]  17% 0.00022 it/s\r",
      " [  18 / 100 ]  18% 0.00022 it/s\r",
      " [  19 / 100 ]  19% 0.00022 it/s\r",
      " [  20 / 100 ]  20% 0.00022 it/s\r",
      " [  21 / 100 ]  21% 0.00022 it/s\r",
      " [  22 / 100 ]  22% 0.00022 it/s\r",
      " [  23 / 100 ]  23% 0.00022 it/s\r",
      " [  24 / 100 ]  24% 0.00022 it/s\r",
      " [  25 / 100 ]  25% 0.00022 it/s\r",
      " [  26 / 100 ]  26% 0.00022 it/s\r",
      " [  27 / 100 ]  27% 0.00022 it/s\r",
      " [  28 / 100 ]  28% 0.00022 it/s\r",
      " [  29 / 100 ]  29% 0.00022 it/s\r",
      " [  30 / 100 ]  30% 0.00022 it/s\r",
      " [  31 / 100 ]  31% 0.00022 it/s\r",
      " [  32 / 100 ]  32% 0.00022 it/s\r",
      " [  33 / 100 ]  33% 0.00022 it/s\r",
      " [  34 / 100 ]  34% 0.00022 it/s\r",
      " [  35 / 100 ]  35% 0.00022 it/s\r",
      " [  36 / 100 ]  36% 0.00022 it/s\r",
      " [  37 / 100 ]  37% 0.00022 it/s\r",
      " [  38 / 100 ]  38% 0.00022 it/s\r",
      " [  39 / 100 ]  39% 0.00022 it/s\r",
      " [  40 / 100 ]  40% 0.00022 it/s\r",
      " [  41 / 100 ]  41% 0.00022 it/s\r",
      " [  42 / 100 ]  42% 0.00022 it/s\r",
      " [  43 / 100 ]  43% 0.00022 it/s\r",
      " [  44 / 100 ]  44% 0.00022 it/s\r",
      " [  45 / 100 ]  45% 0.00022 it/s\r",
      " [  46 / 100 ]  46% 0.00022 it/s\r",
      " [  47 / 100 ]  47% 0.00022 it/s\r",
      " [  48 / 100 ]  48% 0.00022 it/s\r",
      " [  49 / 100 ]  49% 0.00022 it/s\r",
      " [  50 / 100 ]  50% 0.00022 it/s\r",
      " [  51 / 100 ]  51% 0.00022 it/s\r",
      " [  52 / 100 ]  52% 0.00022 it/s\r",
      " [  53 / 100 ]  53% 0.00022 it/s\r",
      " [  54 / 100 ]  54% 0.00022 it/s\r",
      " [  55 / 100 ]  55% 0.00022 it/s\r",
      " [  56 / 100 ]  56% 0.00022 it/s\r",
      " [  57 / 100 ]  57% 0.00022 it/s\r",
      " [  58 / 100 ]  58% 0.00022 it/s\r",
      " [  59 / 100 ]  59% 0.00022 it/s\r",
      " [  60 / 100 ]  60% 0.00022 it/s\r",
      " [  61 / 100 ]  61% 0.00022 it/s\r",
      " [  62 / 100 ]  62% 0.00022 it/s\r",
      " [  63 / 100 ]  63% 0.00022 it/s\r",
      " [  64 / 100 ]  64% 0.00022 it/s\r",
      " [  65 / 100 ]  65% 0.00022 it/s\r",
      " [  66 / 100 ]  66% 0.00022 it/s\r",
      " [  67 / 100 ]  67% 0.00022 it/s\r",
      " [  68 / 100 ]  68% 0.00022 it/s\r",
      " [  69 / 100 ]  69% 0.00022 it/s\r",
      " [  70 / 100 ]  70% 0.00022 it/s\r",
      " [  71 / 100 ]  71% 0.00022 it/s\r",
      " [  72 / 100 ]  72% 0.00022 it/s\r",
      " [  73 / 100 ]  73% 0.00022 it/s\r",
      " [  74 / 100 ]  74% 0.00022 it/s\r",
      " [  75 / 100 ]  75% 0.00022 it/s\r",
      " [  76 / 100 ]  76% 0.00022 it/s\r",
      " [  77 / 100 ]  77% 0.00022 it/s\r",
      " [  78 / 100 ]  78% 0.00022 it/s\r",
      " [  79 / 100 ]  79% 0.00022 it/s\r",
      " [  80 / 100 ]  80% 0.00022 it/s\r",
      " [  81 / 100 ]  81% 0.00022 it/s\r",
      " [  82 / 100 ]  82% 0.00022 it/s\r",
      " [  83 / 100 ]  83% 0.00022 it/s\r",
      " [  84 / 100 ]  84% 0.00022 it/s\r",
      " [  85 / 100 ]  85% 0.00022 it/s\r",
      " [  86 / 100 ]  86% 0.00022 it/s\r",
      " [  87 / 100 ]  87% 0.00022 it/s\r",
      " [  88 / 100 ]  88% 0.00022 it/s\r",
      " [  89 / 100 ]  89% 0.00022 it/s\r",
      " [  90 / 100 ]  90% 0.00022 it/s\r",
      " [  91 / 100 ]  91% 0.00022 it/s\r",
      " [  92 / 100 ]  92% 0.00022 it/s\r",
      " [  93 / 100 ]  93% 0.00022 it/s\r",
      " [  94 / 100 ]  94% 0.00022 it/s\r",
      " [  95 / 100 ]  95% 0.00022 it/s\r",
      " [  96 / 100 ]  96% 0.00022 it/s\r",
      " [  97 / 100 ]  97% 0.00022 it/s\r",
      " [  98 / 100 ]  98% 0.00022 it/s\r",
      " [  99 / 100 ]  99% 0.00022 it/s\r",
      " [ 100 / 100 ] 100% 0.00022 it/s"
     ]
    },
    {
     "name": "stderr",
     "output_type": "stream",
     "text": [
      "../minisom.py:117: UserWarning: Warning:sigma may be too high for the dimension of the map.\n",
      "  warn('Warning:sigma may be too high for the dimension of the map.')\n"
     ]
    }
   ],
   "source": [
    "outliers_percentage = 0.35\n",
    "inliers = 300\n",
    "outliers = int(inliers * outliers_percentage)\n",
    "\n",
    "\n",
    "data = make_blobs(centers=[[2, 2], [-2, -2]], cluster_std=[.3, .3],\n",
    "                  n_samples=inliers, random_state=0)[0]\n",
    "\n",
    "\n",
    "data = scale(data)\n",
    "data = np.concatenate([data, \n",
    "                       (np.random.rand(outliers, 2)-.5)*4.])\n",
    "\n",
    "\n",
    "som = MiniSom(2, 1, data.shape[1], sigma=1, learning_rate=0.5,\n",
    "              neighborhood_function='triangle', random_seed=10)\n",
    "\n",
    "\n",
    "som.train_batch(data, 100, verbose=True)  # random training"
   ]
  },
  {
   "cell_type": "code",
   "execution_count": 4,
   "metadata": {},
   "outputs": [],
   "source": [
    "quantization_errors = np.linalg.norm(som.quantization(data) - data, axis=1)\n",
    "error_treshold = np.percentile(quantization_errors, \n",
    "                               100*(1-outliers_percentage)+5)\n",
    "is_outlier = quantization_errors > error_treshold"
   ]
  },
  {
   "cell_type": "code",
   "execution_count": 5,
   "metadata": {},
   "outputs": [
    {
     "data": {
      "text/plain": [
       "Text(0, 0.5, 'frequency')"
      ]
     },
     "execution_count": 5,
     "metadata": {},
     "output_type": "execute_result"
    },
    {
     "data": {
      "image/png": "[encoded data removed]",
      "text/plain": [
       "<Figure size 432x288 with 1 Axes>"
      ]
     },
     "metadata": {},
     "output_type": "display_data"
    }
   ],
   "source": [
    "plt.hist(quantization_errors)\n",
    "plt.axvline(error_treshold, color='k', linestyle='--')\n",
    "plt.xlabel('error')\n",
    "plt.ylabel('frequency')"
   ]
  },
  {
   "cell_type": "code",
   "execution_count": 6,
   "metadata": {},
   "outputs": [
    {
     "data": {
      "image/png": "[encoded data removed]",
      "text/plain": [
       "<Figure size 576x576 with 1 Axes>"
      ]
     },
     "metadata": {},
     "output_type": "display_data"
    }
   ],
   "source": [
    "plt.figure(figsize=(8, 8))\n",
    "plt.scatter(data[~is_outlier, 0], data[~is_outlier, 1],\n",
    "            label='inlier')\n",
    "plt.scatter(data[is_outlier, 0], data[is_outlier, 1],\n",
    "            label='outlier')\n",
    "plt.legend()\n",
    "plt.savefig('resulting_images/som_outliers_detection.png')\n",
    "plt.show()"
   ]
  },
  {
   "cell_type": "code",
   "execution_count": 7,
   "metadata": {},
   "outputs": [
    {
     "name": "stdout",
     "output_type": "stream",
     "text": [
      "\r",
      " [   0 / 100 ]   0% ? it/s\r",
      " [   1 / 100 ]   1% 0.00063 it/s\r",
      " [   2 / 100 ]   2% 0.00064 it/s\r",
      " [   3 / 100 ]   3% 0.00061 it/s\r",
      " [   4 / 100 ]   4% 0.00059 it/s\r",
      " [   5 / 100 ]   5% 0.00057 it/s\r",
      " [   6 / 100 ]   6% 0.00057 it/s\r",
      " [   7 / 100 ]   7% 0.00058 it/s\r",
      " [   8 / 100 ]   8% 0.00059 it/s\r",
      " [   9 / 100 ]   9% 0.00059 it/s\r",
      " [  10 / 100 ]  10% 0.00059 it/s\r",
      " [  11 / 100 ]  11% 0.00060 it/s\r",
      " [  12 / 100 ]  12% 0.00059 it/s\r",
      " [  13 / 100 ]  13% 0.00059 it/s\r",
      " [  14 / 100 ]  14% 0.00058 it/s\r",
      " [  15 / 100 ]  15% 0.00059 it/s\r",
      " [  16 / 100 ]  16% 0.00059 it/s\r",
      " [  17 / 100 ]  17% 0.00059 it/s\r",
      " [  18 / 100 ]  18% 0.00059 it/s\r",
      " [  19 / 100 ]  19% 0.00059 it/s\r",
      " [  20 / 100 ]  20% 0.00059 it/s\r",
      " [  21 / 100 ]  21% 0.00059 it/s\r",
      " [  22 / 100 ]  22% 0.00059 it/s\r",
      " [  23 / 100 ]  23% 0.00059 it/s\r",
      " [  24 / 100 ]  24% 0.00059 it/s\r",
      " [  25 / 100 ]  25% 0.00059 it/s\r",
      " [  26 / 100 ]  26% 0.00058 it/s\r",
      " [  27 / 100 ]  27% 0.00058 it/s\r",
      " [  28 / 100 ]  28% 0.00059 it/s\r",
      " [  29 / 100 ]  29% 0.00059 it/s\r",
      " [  30 / 100 ]  30% 0.00060 it/s\r",
      " [  31 / 100 ]  31% 0.00060 it/s\r",
      " [  32 / 100 ]  32% 0.00060 it/s\r",
      " [  33 / 100 ]  33% 0.00060 it/s\r",
      " [  34 / 100 ]  34% 0.00060 it/s\r",
      " [  35 / 100 ]  35% 0.00060 it/s\r",
      " [  36 / 100 ]  36% 0.00061 it/s\r",
      " [  37 / 100 ]  37% 0.00061 it/s\r",
      " [  38 / 100 ]  38% 0.00061 it/s\r",
      " [  39 / 100 ]  39% 0.00061 it/s\r",
      " [  40 / 100 ]  40% 0.00061 it/s\r",
      " [  41 / 100 ]  41% 0.00060 it/s\r",
      " [  42 / 100 ]  42% 0.00060 it/s\r",
      " [  43 / 100 ]  43% 0.00060 it/s\r",
      " [  44 / 100 ]  44% 0.00060 it/s\r",
      " [  45 / 100 ]  45% 0.00060 it/s\r",
      " [  46 / 100 ]  46% 0.00060 it/s\r",
      " [  47 / 100 ]  47% 0.00060 it/s\r",
      " [  48 / 100 ]  48% 0.00060 it/s\r",
      " [  49 / 100 ]  49% 0.00060 it/s\r",
      " [  50 / 100 ]  50% 0.00060 it/s\r",
      " [  51 / 100 ]  51% 0.00060 it/s\r",
      " [  52 / 100 ]  52% 0.00060 it/s\r",
      " [  53 / 100 ]  53% 0.00060 it/s\r",
      " [  54 / 100 ]  54% 0.00060 it/s\r",
      " [  55 / 100 ]  55% 0.00060 it/s\r",
      " [  56 / 100 ]  56% 0.00060 it/s\r",
      " [  57 / 100 ]  57% 0.00060 it/s\r",
      " [  58 / 100 ]  58% 0.00060 it/s\r",
      " [  59 / 100 ]  59% 0.00060 it/s\r",
      " [  60 / 100 ]  60% 0.00060 it/s\r",
      " [  61 / 100 ]  61% 0.00060 it/s\r",
      " [  62 / 100 ]  62% 0.00060 it/s\r",
      " [  63 / 100 ]  63% 0.00060 it/s\r",
      " [  64 / 100 ]  64% 0.00060 it/s\r",
      " [  65 / 100 ]  65% 0.00060 it/s\r",
      " [  66 / 100 ]  66% 0.00060 it/s\r",
      " [  67 / 100 ]  67% 0.00060 it/s\r",
      " [  68 / 100 ]  68% 0.00060 it/s\r",
      " [  69 / 100 ]  69% 0.00060 it/s\r",
      " [  70 / 100 ]  70% 0.00060 it/s\r",
      " [  71 / 100 ]  71% 0.00060 it/s\r",
      " [  72 / 100 ]  72% 0.00060 it/s\r",
      " [  73 / 100 ]  73% 0.00060 it/s\r",
      " [  74 / 100 ]  74% 0.00060 it/s\r",
      " [  75 / 100 ]  75% 0.00060 it/s\r",
      " [  76 / 100 ]  76% 0.00060 it/s\r",
      " [  77 / 100 ]  77% 0.00060 it/s\r",
      " [  78 / 100 ]  78% 0.00060 it/s\r",
      " [  79 / 100 ]  79% 0.00060 it/s\r",
      " [  80 / 100 ]  80% 0.00060 it/s\r",
      " [  81 / 100 ]  81% 0.00060 it/s\r",
      " [  82 / 100 ]  82% 0.00060 it/s\r",
      " [  83 / 100 ]  83% 0.00060 it/s\r",
      " [  84 / 100 ]  84% 0.00060 it/s\r",
      " [  85 / 100 ]  85% 0.00060 it/s\r",
      " [  86 / 100 ]  86% 0.00060 it/s\r",
      " [  87 / 100 ]  87% 0.00060 it/s\r",
      " [  88 / 100 ]  88% 0.00060 it/s\r",
      " [  89 / 100 ]  89% 0.00060 it/s\r",
      " [  90 / 100 ]  90% 0.00060 it/s\r",
      " [  91 / 100 ]  91% 0.00060 it/s\r",
      " [  92 / 100 ]  92% 0.00060 it/s\r",
      " [  93 / 100 ]  93% 0.00060 it/s\r",
      " [  94 / 100 ]  94% 0.00060 it/s\r",
      " [  95 / 100 ]  95% 0.00060 it/s\r",
      " [  96 / 100 ]  96% 0.00060 it/s\r",
      " [  97 / 100 ]  97% 0.00060 it/s\r",
      " [  98 / 100 ]  98% 0.00060 it/s\r",
      " [  99 / 100 ]  99% 0.00060 it/s\r",
      " [ 100 / 100 ] 100% 0.00060 it/s"
     ]
    }
   ],
   "source": [
    "from sklearn.datasets import make_circles\n",
    "data = make_circles(noise=.1, n_samples=inliers, random_state=0)[0]\n",
    "data = scale(data)\n",
    "data = np.concatenate([data, \n",
    "                       (np.random.rand(outliers, 2)-.5)*4.])\n",
    "\n",
    "\n",
    "som = MiniSom(5, 5, data.shape[1], sigma=1, learning_rate=0.5,\n",
    "              neighborhood_function='triangle', random_seed=10)\n",
    "\n",
    "\n",
    "som.train_batch(data, 100, verbose=True)  \n",
    "quantization_errors = np.linalg.norm(som.quantization(data) - data, axis=1)\n",
    "error_treshold = np.percentile(quantization_errors, \n",
    "                               100*(1-outliers_percentage)+5)\n",
    "is_outlier = quantization_errors > error_treshold"
   ]
  },
  {
   "cell_type": "code",
   "execution_count": 9,
   "metadata": {},
   "outputs": [
    {
     "data": {
      "image/png": "[encoded data removed]",
      "text/plain": [
       "<Figure size 576x576 with 1 Axes>"
      ]
     },
     "metadata": {},
     "output_type": "display_data"
    }
   ],
   "source": [
    "plt.figure(figsize=(8, 8))\n",
    "plt.scatter(data[~is_outlier, 0], data[~is_outlier, 1],\n",
    "            label='inlier')\n",
    "plt.scatter(data[is_outlier, 0], data[is_outlier, 1],\n",
    "            label='outlier')\n",
    "#weights = som._weights.reshape(5*5, 2)\n",
    "#plt.scatter(weights[:, 0], weights[:,1],\n",
    "#            marker='+', s=320, c='g', label='weights')\n",
    "plt.legend()\n",
    "plt.savefig('resulting_images/som_outliers_detection_circle.png')\n",
    "plt.show()"
   ]
  },
  {
   "cell_type": "code",
   "execution_count": null,
   "metadata": {
    "collapsed": true
   },
   "outputs": [],
   "source": []
  }
 ],
 "metadata": {
  "kernelspec": {
   "display_name": "Python 3",
   "language": "python",
   "name": "python3"
  },
  "language_info": {
   "codemirror_mode": {
    "name": "ipython",
    "version": 3
   },
   "file_extension": ".py",
   "mimetype": "text/x-python",
   "name": "python",
   "nbconvert_exporter": "python",
   "pygments_lexer": "ipython3",
   "version": "3.6.2"
  }
 },
 "nbformat": 4,
 "nbformat_minor": 2
}
